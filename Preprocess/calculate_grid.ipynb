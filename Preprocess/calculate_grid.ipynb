{
 "cells": [
  {
   "cell_type": "code",
   "execution_count": 197,
   "metadata": {},
   "outputs": [],
   "source": [
    "import pandas as pd\n",
    "import numpy as np\n",
    "import scipy as sp\n",
    "from scipy import integrate\n",
    "import geopy.distance\n",
    "import matplotlib.pyplot as plt\n",
    "import seaborn as sns"
   ]
  },
  {
   "attachments": {},
   "cell_type": "markdown",
   "metadata": {},
   "source": [
    "# read data"
   ]
  },
  {
   "cell_type": "code",
   "execution_count": 198,
   "metadata": {},
   "outputs": [],
   "source": [
    "#แก้\n",
    "df_fix_point = pd.read_csv('data/ANP2.2_Default_fixed_point_profiles.csv',delimiter=';')\n",
    "df_fix_point = df_fix_point[df_fix_point.ACFT_ID == \"727200\"]\n",
    "df_fix_point = df_fix_point[df_fix_point['Stage Length'] == 1]\n",
    "df_fix_point = df_fix_point.reset_index(drop=True)\n",
    "df_fix_poit_initial = df_fix_point[df_fix_point['Op Type'] == \"A\"]\n",
    "# df_fix_poit_initial"
   ]
  },
  {
   "cell_type": "code",
   "execution_count": 199,
   "metadata": {},
   "outputs": [],
   "source": [
    "#แก้\n",
    "df = {'AIQ311-1670716320-schedule-0614':{},'AIQ512-1670716320-schedule-0609':{}}"
   ]
  },
  {
   "cell_type": "code",
   "execution_count": 200,
   "metadata": {},
   "outputs": [],
   "source": [
    "#----- read flight data -----#\n",
    "for key in df.keys():\n",
    "    df[key]['df'] = pd.read_csv(f'ONLY_TEST/{key}.csv')\n",
    "    df[key]['df'].drop(columns=['Unnamed: 0'],inplace=True)\n"
   ]
  },
  {
   "attachments": {},
   "cell_type": "markdown",
   "metadata": {},
   "source": [
    "# add power setting"
   ]
  },
  {
   "cell_type": "code",
   "execution_count": 201,
   "metadata": {},
   "outputs": [],
   "source": [
    "def add_powersetting_2_flight(df_param):\n",
    "    df__tmp = df_fix_poit_initial.copy().groupby('TAS (kt)').max()\n",
    "    df__tmp = df__tmp.reindex(df__tmp.index.union(df_param.groundspeed.unique()))\n",
    "    df__tmp = df__tmp.interpolate(method='index',limit_direction='both',limit=200)\n",
    "    df__tmp = df__tmp.reindex(df_param.groundspeed.unique())\n",
    "    df__tmp.reset_index(drop=False, inplace=True)\n",
    "    df__tmp.rename(columns={'TAS (kt)':'groundspeed'}, inplace=True)\n",
    "    df__tmp = df__tmp[['groundspeed', 'Power Setting']]\n",
    "\n",
    "    df_param = df_param.merge(df__tmp, how='left', on='groundspeed')\n",
    "    \n",
    "    return df_param"
   ]
  },
  {
   "cell_type": "code",
   "execution_count": 202,
   "metadata": {},
   "outputs": [],
   "source": [
    "for key in df.keys():\n",
    "    df[key]['df'] = add_powersetting_2_flight(df[key]['df'])\n"
   ]
  },
  {
   "attachments": {},
   "cell_type": "markdown",
   "metadata": {},
   "source": [
    "# creat npd data for flight"
   ]
  },
  {
   "cell_type": "code",
   "execution_count": 203,
   "metadata": {},
   "outputs": [],
   "source": [
    "npd = pd.read_csv('data/ANP2.2_NPD_data.csv',delimiter=';')\n",
    "# npd.head()"
   ]
  },
  {
   "cell_type": "code",
   "execution_count": 204,
   "metadata": {},
   "outputs": [],
   "source": [
    "def get_feet(distance):\n",
    "    feet = distance.split('_')[1]\n",
    "    return float(feet[:-2])"
   ]
  },
  {
   "cell_type": "code",
   "execution_count": 205,
   "metadata": {},
   "outputs": [],
   "source": [
    "#แก้\n",
    "def npd_inter_per_flight(df_param):\n",
    "    npd_of_flight = npd[npd['NPD_ID'] == 'CF567B'] #<-----ตรงนี้\n",
    "    npd_of_flight = npd_of_flight[npd_of_flight['Noise Metric'] == 'LAmax']\n",
    "    npd_of_flight = npd_of_flight[npd_of_flight['Op Mode'] == 'A']\n",
    "    npd_of_flight.set_index('Power Setting', inplace=True)\n",
    "\n",
    "    npd_of_flight = npd_of_flight.reindex(npd_of_flight.index.union(df_param['Power Setting'].unique()))\n",
    "    npd_of_flight = npd_of_flight.interpolate(method='index',limit_direction='both',limit=200)\n",
    "    \n",
    "    npd_of_flight = npd_of_flight.drop(columns=['NPD_ID','Noise Metric','Op Mode']).T.reset_index()\n",
    "    npd_of_flight.rename(columns={'index':'distance'},inplace=True)\n",
    "\n",
    "    npd_of_flight['distance'] = npd_of_flight['distance'].apply(get_feet)\n",
    "    npd_of_flight.set_index('distance',inplace=True)\n",
    "    return npd_of_flight"
   ]
  },
  {
   "cell_type": "code",
   "execution_count": 206,
   "metadata": {},
   "outputs": [],
   "source": [
    "for key in df.keys():\n",
    "    df[key]['npd'] = npd_inter_per_flight(df[key]['df'])"
   ]
  },
  {
   "attachments": {},
   "cell_type": "markdown",
   "metadata": {},
   "source": [
    "# cal grid"
   ]
  },
  {
   "cell_type": "code",
   "execution_count": 207,
   "metadata": {},
   "outputs": [],
   "source": [
    "#----- calculate distance from lat, long -----#\n",
    "def add_distance(lat1, long1, lat2, long2):\n",
    "    position1 = (lat1,long1)\n",
    "    position2 = (lat2,long2)\n",
    "    return geopy.distance.geodesic(position1, position2).ft"
   ]
  },
  {
   "cell_type": "code",
   "execution_count": 208,
   "metadata": {},
   "outputs": [],
   "source": [
    "#----- function Single Soung Event -----#\n",
    "def function_L(sound) :\n",
    "    return 10**(sound / 10)"
   ]
  },
  {
   "cell_type": "code",
   "execution_count": 209,
   "metadata": {},
   "outputs": [
    {
     "data": {
      "text/plain": [
       "(13.811475, 14.011475)"
      ]
     },
     "execution_count": 209,
     "metadata": {},
     "output_type": "execute_result"
    }
   ],
   "source": [
    "# 13.911475, 100.605997 DMK\n",
    "# 50 ช่อง -> เพิ่มทีละ 0.004\n",
    "100.505997, 100.705997\n",
    "13.811475, 14.011475"
   ]
  },
  {
   "cell_type": "code",
   "execution_count": 210,
   "metadata": {},
   "outputs": [],
   "source": [
    "lat_start =  13.811475\n",
    "long_start = 100.505997\n",
    "L_dB_start = 0\n",
    "\n",
    "def create_observerer():\n",
    "    global lat_start, long_start, L_dB_start\n",
    "    observer = np.zeros((5,5,3))\n",
    "    for i in range(5) :\n",
    "        for j in range(5) :\n",
    "            observer[i][j] = lat_start, long_start, L_dB_start\n",
    "            long_start += 0.004\n",
    "        lat_start  += 0.004\n",
    "        long_start = 100.505997           \n",
    "    return observer"
   ]
  },
  {
   "cell_type": "code",
   "execution_count": 211,
   "metadata": {},
   "outputs": [],
   "source": [
    "for key in df.keys():\n",
    "    df[key]['grid'] = create_observerer()"
   ]
  },
  {
   "cell_type": "code",
   "execution_count": 212,
   "metadata": {},
   "outputs": [],
   "source": [
    "def Calculate_Grid(observer,df_param, npd_param):\n",
    "    for i in range(len(observer)):\n",
    "        for j in range(len(observer[i])): # j = [lat, long, L(dB)]\n",
    "            #----- copy df_param -----#\n",
    "            tmp = df_param.copy()\n",
    "            \n",
    "            #----- calculate distance every transection -----#\n",
    "            tmp_distance = []\n",
    "            tmp['distance'] = -1\n",
    "            \n",
    "            for index, row in tmp.iterrows():\n",
    "                distance = add_distance(observer[i][j][0], observer[i][j][1], row['latitude'], row['longitude'])\n",
    "                tmp_distance.append(distance)\n",
    "                tmp.loc[index, 'distance'] = distance\n",
    "            \n",
    "            #----- calculate L_dB from powersetting & distance -> copy to model_data -----#\n",
    "            npd_after_inter = npd_param.reindex(npd_param.index.union(tmp_distance))\n",
    "            npd_after_inter = npd_after_inter.interpolate(method='index',limit_direction='both',limit=200)\n",
    "            model_data = npd_after_inter.copy()\n",
    "            \n",
    "            #----- add L_dB to df['sound'] & select < 25000 only -----#\n",
    "            for index, row in tmp.iterrows():\n",
    "                tmp.loc[index,'sound'] = model_data.loc[row.distance,row['Power Setting']]\n",
    "                \n",
    "            tmp = tmp[tmp['distance']<25000]\n",
    "            \n",
    "            #----- Single Sound Event Model -----#\n",
    "            if tmp.empty:\n",
    "                continue\n",
    "            tmp['Function'] = tmp['sound'].apply(function_L)\n",
    "            area = integrate.simpson(tmp['Function'])\n",
    "            lSEL= 10*np.log10( (1/1)*area)\n",
    "            \n",
    "            #----- add l_dB to observer -----#\n",
    "            observer[i][j][2] = lSEL\n",
    "            \n",
    "    return observer"
   ]
  },
  {
   "cell_type": "code",
   "execution_count": 213,
   "metadata": {},
   "outputs": [],
   "source": [
    "for key in df.keys():\n",
    "    df[key]['grid'] = Calculate_Grid(df[key]['grid'], df[key]['df'], df[key]['npd'])"
   ]
  },
  {
   "cell_type": "code",
   "execution_count": 214,
   "metadata": {},
   "outputs": [],
   "source": [
    "#----- observer to pivot table -----#\n",
    "for key in df.keys():\n",
    "    df_tmp = pd.DataFrame(columns = ['Lat','Long','L_dB'])\n",
    "    \n",
    "    #----- matrix to pandas -----#\n",
    "    for i in range(len(df[key]['grid'])):\n",
    "        row = pd.DataFrame(df[key]['grid'][i], columns = ['Lat','Long','L_dB'])\n",
    "        df_tmp = pd.concat([df_tmp, row])\n",
    "    \n",
    "    #----- Create pivot table -----#\n",
    "    tabal_df = pd.pivot_table(df_tmp,index='Lat',columns='Long',values='L_dB')\n",
    "    df[key]['grid'] = tabal_df"
   ]
  },
  {
   "attachments": {},
   "cell_type": "markdown",
   "metadata": {},
   "source": [
    "# cumulative"
   ]
  },
  {
   "cell_type": "code",
   "execution_count": 215,
   "metadata": {},
   "outputs": [],
   "source": [
    "#----- result grid for plot -----#\n",
    "res_grid = np.zeros((5,5))"
   ]
  },
  {
   "cell_type": "code",
   "execution_count": 216,
   "metadata": {},
   "outputs": [],
   "source": [
    "#----- Variable Value for Cumulative Level ( Day-Night ) -----#\n",
    "Day_Delta_i = 0\n",
    "Night_Delta_i = 10\n",
    "t0 = 1\n",
    "T0 = 86400"
   ]
  },
  {
   "cell_type": "code",
   "execution_count": 217,
   "metadata": {},
   "outputs": [],
   "source": [
    "#----- function Cumulative Level ( Day-Night ) -----#\n",
    "def Cumulative_model(DN, sound):\n",
    "    global Day_Delta_i, Night_Delta_i\n",
    "    if DN == 'night':\n",
    "        return 10**( (sound + Night_Delta_i) / 10 )\n",
    "    elif DN == 'day':\n",
    "        return 10**( (sound + Day_Delta_i) / 10 )\n",
    "    else:\n",
    "        return 0"
   ]
  },
  {
   "cell_type": "code",
   "execution_count": 218,
   "metadata": {},
   "outputs": [],
   "source": [
    "#แก้\n",
    "for key in df.keys():\n",
    "    df[key]['period'] = 'day'"
   ]
  },
  {
   "cell_type": "code",
   "execution_count": 219,
   "metadata": {},
   "outputs": [],
   "source": [
    "for i in range(len(df[list(df.keys())[0]]['grid'])):\n",
    "    for j in range(len(df[list(df.keys())[0]]['grid'])):\n",
    "        LDN = 0\n",
    "        for key in df.keys():\n",
    "            LDN = LDN + Cumulative_model(df[key]['period'], df[key]['grid'].iloc[i, j])\n",
    "        res_grid[i][j] = 10*np.log10( (t0 / T0) * LDN )"
   ]
  },
  {
   "cell_type": "code",
   "execution_count": 220,
   "metadata": {},
   "outputs": [
    {
     "data": {
      "text/plain": [
       "array([[19.2291968 , 18.45539813, 17.82014155, 17.28061475, 16.75984413],\n",
       "       [22.04075013, 21.17660888, 20.36944407, 19.61607674, 18.91697628],\n",
       "       [25.94812493, 24.6737253 , 23.53481837, 22.57143266, 21.77746876],\n",
       "       [31.53490163, 29.39686401, 27.99872945, 26.76911485, 25.5331047 ],\n",
       "       [45.85547463, 39.48719335, 35.42491726, 32.88053747, 30.67542472]])"
      ]
     },
     "execution_count": 220,
     "metadata": {},
     "output_type": "execute_result"
    }
   ],
   "source": [
    "res_grid"
   ]
  },
  {
   "cell_type": "code",
   "execution_count": null,
   "metadata": {},
   "outputs": [],
   "source": []
  }
 ],
 "metadata": {
  "kernelspec": {
   "display_name": "newenv",
   "language": "python",
   "name": "python3"
  },
  "language_info": {
   "codemirror_mode": {
    "name": "ipython",
    "version": 3
   },
   "file_extension": ".py",
   "mimetype": "text/x-python",
   "name": "python",
   "nbconvert_exporter": "python",
   "pygments_lexer": "ipython3",
   "version": "3.10.2"
  },
  "orig_nbformat": 4,
  "vscode": {
   "interpreter": {
    "hash": "ac71981e6f890dc801fdae2a82ae8fd86c5f03e19859ebfcb9b552b27fc94c2c"
   }
  }
 },
 "nbformat": 4,
 "nbformat_minor": 2
}
