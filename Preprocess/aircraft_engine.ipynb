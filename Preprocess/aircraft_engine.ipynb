{
 "cells": [
  {
   "cell_type": "code",
   "execution_count": 18,
   "metadata": {},
   "outputs": [],
   "source": [
    "import pandas as pd\n",
    "import numpy as np\n",
    "import scipy as sp\n",
    "from scipy import integrate\n",
    "import geopy.distance\n",
    "import matplotlib.pyplot as plt\n",
    "import seaborn as sns\n",
    "import os\n",
    "import glob\n",
    "import requests\n",
    "\n",
    "import firebase_admin\n",
    "from firebase_admin import credentials\n",
    "from firebase_admin import firestore"
   ]
  },
  {
   "cell_type": "code",
   "execution_count": 11,
   "metadata": {},
   "outputs": [],
   "source": [
    "cred = credentials.Certificate('./../Backend/serviceAccount.json')\n",
    "app_firebase = firebase_admin.initialize_app(cred)\n",
    "db = firestore.client()"
   ]
  },
  {
   "cell_type": "code",
   "execution_count": 31,
   "metadata": {},
   "outputs": [],
   "source": [
    "import sys\n",
    " \n",
    "sys.path.append('./../Backend/')"
   ]
  },
  {
   "cell_type": "code",
   "execution_count": 32,
   "metadata": {},
   "outputs": [],
   "source": [
    "\n",
    " \n",
    "# importing the add and odd_even\n",
    "# function\n",
    "from key_value.token import apiKey, apiUrl, auth_header\n",
    "\n",
    "\n",
    " \n"
   ]
  },
  {
   "cell_type": "code",
   "execution_count": 34,
   "metadata": {},
   "outputs": [
    {
     "data": {
      "text/plain": [
       "{'x-apikey': 'IaF6zOUaj8VG4ambmUwOodEFaxBnrR3A'}"
      ]
     },
     "execution_count": 34,
     "metadata": {},
     "output_type": "execute_result"
    }
   ],
   "source": [
    "auth_header"
   ]
  },
  {
   "cell_type": "code",
   "execution_count": 17,
   "metadata": {},
   "outputs": [
    {
     "name": "stdout",
     "output_type": "stream",
     "text": [
      "AIQ3437\n",
      "Not found\n",
      "AIQ3102\n",
      "Not found\n",
      "AIQ3252\n",
      "Not found\n",
      "NOK570\n",
      "Not found\n",
      "NOK100\n",
      "Not found\n",
      "AIQ512\n",
      "Found\n",
      "{'type': 'A320', 'flight_id': 'AIQ512', 'engine_type': 'jet', 'engine_count': 2}\n",
      "AIQ3029\n",
      "Not found\n",
      "AIQ311\n",
      "Not found\n",
      "AIQ3362\n",
      "Not found\n",
      "AIQ3188\n",
      "Not found\n",
      "NOK340\n",
      "Not found\n",
      "NOK122\n",
      "Not found\n",
      "TLM702\n",
      "Not found\n"
     ]
    }
   ],
   "source": [
    "path = './ONLY_TEST/'\n",
    "csv_files = glob.glob(os.path.join(path, \"*.csv\"))\n",
    "for f in csv_files:\n",
    "    filename = f.split('/')[2]\n",
    "    flight_id = filename.split('-')[0]\n",
    "    print(flight_id)\n",
    "    doc_ref = db.collection('aircraft_engine').document(f'{flight_id}')\n",
    "    docs = doc_ref.get()\n",
    "\n",
    "    if docs.exists:\n",
    "        print(\"Found\")\n",
    "        print(docs.to_dict())\n",
    "    else:\n",
    "        print(\"Not found\")\n",
    "\n",
    "\n"
   ]
  },
  {
   "cell_type": "code",
   "execution_count": null,
   "metadata": {},
   "outputs": [],
   "source": []
  }
 ],
 "metadata": {
  "kernelspec": {
   "display_name": "base",
   "language": "python",
   "name": "python3"
  },
  "language_info": {
   "codemirror_mode": {
    "name": "ipython",
    "version": 3
   },
   "file_extension": ".py",
   "mimetype": "text/x-python",
   "name": "python",
   "nbconvert_exporter": "python",
   "pygments_lexer": "ipython3",
   "version": "3.9.7 (default, Sep 16 2021, 08:50:36) \n[Clang 10.0.0 ]"
  },
  "orig_nbformat": 4,
  "vscode": {
   "interpreter": {
    "hash": "a5147bdb3c66465122a838870151ee4bc0535599ee4767a57af24ca7ce03a693"
   }
  }
 },
 "nbformat": 4,
 "nbformat_minor": 2
}
