{
 "cells": [
  {
   "cell_type": "code",
   "execution_count": 58,
   "metadata": {},
   "outputs": [],
   "source": [
    "import pandas as pd\n",
    "import numpy as np\n",
    "import scipy as sp\n",
    "from scipy import integrate\n",
    "import geopy.distance\n",
    "import matplotlib.pyplot as plt\n",
    "import seaborn as sns\n",
    "import os\n",
    "import glob\n",
    "import requests\n",
    "import time\n",
    "\n",
    "import firebase_admin\n",
    "from firebase_admin import credentials\n",
    "from firebase_admin import firestore"
   ]
  },
  {
   "cell_type": "code",
   "execution_count": 18,
   "metadata": {},
   "outputs": [
    {
     "ename": "ValueError",
     "evalue": "The default Firebase app already exists. This means you called initialize_app() more than once without providing an app name as the second argument. In most cases you only need to call initialize_app() once. But if you do want to initialize multiple apps, pass a second argument to initialize_app() to give each app a unique name.",
     "output_type": "error",
     "traceback": [
      "\u001b[1;31m---------------------------------------------------------------------------\u001b[0m",
      "\u001b[1;31mValueError\u001b[0m                                Traceback (most recent call last)",
      "\u001b[1;32mc:\\Users\\Nopnpr\\Y 4 T 1\\project\\Webapp\\Preprocess\\aircraft_engine.ipynb Cell 2\u001b[0m in \u001b[0;36m<module>\u001b[1;34m\u001b[0m\n\u001b[0;32m      <a href='vscode-notebook-cell:/c%3A/Users/Nopnpr/Y%204%20T%201/project/Webapp/Preprocess/aircraft_engine.ipynb#W1sZmlsZQ%3D%3D?line=0'>1</a>\u001b[0m cred \u001b[39m=\u001b[39m credentials\u001b[39m.\u001b[39mCertificate(\u001b[39m'\u001b[39m\u001b[39m./../Backend/serviceAccount.json\u001b[39m\u001b[39m'\u001b[39m)\n\u001b[1;32m----> <a href='vscode-notebook-cell:/c%3A/Users/Nopnpr/Y%204%20T%201/project/Webapp/Preprocess/aircraft_engine.ipynb#W1sZmlsZQ%3D%3D?line=1'>2</a>\u001b[0m app_firebase \u001b[39m=\u001b[39m firebase_admin\u001b[39m.\u001b[39;49minitialize_app(cred)\n\u001b[0;32m      <a href='vscode-notebook-cell:/c%3A/Users/Nopnpr/Y%204%20T%201/project/Webapp/Preprocess/aircraft_engine.ipynb#W1sZmlsZQ%3D%3D?line=2'>3</a>\u001b[0m db \u001b[39m=\u001b[39m firestore\u001b[39m.\u001b[39mclient()\n",
      "File \u001b[1;32mc:\\Users\\Nopnpr\\anaconda3\\envs\\newenv\\lib\\site-packages\\firebase_admin\\__init__.py:71\u001b[0m, in \u001b[0;36minitialize_app\u001b[1;34m(credential, options, name)\u001b[0m\n\u001b[0;32m     68\u001b[0m         \u001b[39mreturn\u001b[39;00m app\n\u001b[0;32m     70\u001b[0m \u001b[39mif\u001b[39;00m name \u001b[39m==\u001b[39m _DEFAULT_APP_NAME:\n\u001b[1;32m---> 71\u001b[0m     \u001b[39mraise\u001b[39;00m \u001b[39mValueError\u001b[39;00m((\n\u001b[0;32m     72\u001b[0m         \u001b[39m'\u001b[39m\u001b[39mThe default Firebase app already exists. This means you called \u001b[39m\u001b[39m'\u001b[39m\n\u001b[0;32m     73\u001b[0m         \u001b[39m'\u001b[39m\u001b[39minitialize_app() more than once without providing an app name as \u001b[39m\u001b[39m'\u001b[39m\n\u001b[0;32m     74\u001b[0m         \u001b[39m'\u001b[39m\u001b[39mthe second argument. In most cases you only need to call \u001b[39m\u001b[39m'\u001b[39m\n\u001b[0;32m     75\u001b[0m         \u001b[39m'\u001b[39m\u001b[39minitialize_app() once. But if you do want to initialize multiple \u001b[39m\u001b[39m'\u001b[39m\n\u001b[0;32m     76\u001b[0m         \u001b[39m'\u001b[39m\u001b[39mapps, pass a second argument to initialize_app() to give each app \u001b[39m\u001b[39m'\u001b[39m\n\u001b[0;32m     77\u001b[0m         \u001b[39m'\u001b[39m\u001b[39ma unique name.\u001b[39m\u001b[39m'\u001b[39m))\n\u001b[0;32m     79\u001b[0m \u001b[39mraise\u001b[39;00m \u001b[39mValueError\u001b[39;00m((\n\u001b[0;32m     80\u001b[0m     \u001b[39m'\u001b[39m\u001b[39mFirebase app named \u001b[39m\u001b[39m\"\u001b[39m\u001b[39m{0}\u001b[39;00m\u001b[39m\"\u001b[39m\u001b[39m already exists. This means you called \u001b[39m\u001b[39m'\u001b[39m\n\u001b[0;32m     81\u001b[0m     \u001b[39m'\u001b[39m\u001b[39minitialize_app() more than once with the same app name as the \u001b[39m\u001b[39m'\u001b[39m\n\u001b[0;32m     82\u001b[0m     \u001b[39m'\u001b[39m\u001b[39msecond argument. Make sure you provide a unique name every time \u001b[39m\u001b[39m'\u001b[39m\n\u001b[0;32m     83\u001b[0m     \u001b[39m'\u001b[39m\u001b[39myou call initialize_app().\u001b[39m\u001b[39m'\u001b[39m)\u001b[39m.\u001b[39mformat(name))\n",
      "\u001b[1;31mValueError\u001b[0m: The default Firebase app already exists. This means you called initialize_app() more than once without providing an app name as the second argument. In most cases you only need to call initialize_app() once. But if you do want to initialize multiple apps, pass a second argument to initialize_app() to give each app a unique name."
     ]
    }
   ],
   "source": [
    "cred = credentials.Certificate('./../Backend/serviceAccount.json')\n",
    "app_firebase = firebase_admin.initialize_app(cred)\n",
    "db = firestore.client()"
   ]
  },
  {
   "cell_type": "code",
   "execution_count": 19,
   "metadata": {},
   "outputs": [],
   "source": [
    "import sys\n",
    " \n",
    "sys.path.append('./../Backend/')"
   ]
  },
  {
   "cell_type": "code",
   "execution_count": 20,
   "metadata": {},
   "outputs": [],
   "source": [
    "\n",
    " \n",
    "# importing the add and odd_even\n",
    "# function\n",
    "from key_value.token import apiKey, apiUrl, auth_header\n",
    "\n",
    "\n",
    " \n"
   ]
  },
  {
   "cell_type": "code",
   "execution_count": 21,
   "metadata": {},
   "outputs": [
    {
     "data": {
      "text/plain": [
       "{'x-apikey': 'IaF6zOUaj8VG4ambmUwOodEFaxBnrR3A'}"
      ]
     },
     "execution_count": 21,
     "metadata": {},
     "output_type": "execute_result"
    }
   ],
   "source": [
    "auth_header"
   ]
  },
  {
   "cell_type": "code",
   "execution_count": 61,
   "metadata": {},
   "outputs": [
    {
     "name": "stdout",
     "output_type": "stream",
     "text": [
      "AIQ3029\n",
      "Found\n",
      "{'type': 'A320', 'flight_id': 'AIQ3029', 'engine_type': 'jet', 'engine_count': 2}\n",
      "AIQ3102\n",
      "Found\n",
      "{'type': 'A320', 'flight_id': 'AIQ3102', 'engine_type': 'jet', 'engine_count': 2}\n",
      "AIQ311\n",
      "Found\n",
      "{'type': 'A320', 'flight_id': 'AIQ311', 'engine_type': 'jet', 'engine_count': 2}\n",
      "AIQ3188\n",
      "Found\n",
      "{'type': 'A320', 'flight_id': 'AIQ3188', 'engine_type': 'jet', 'engine_count': 2}\n",
      "AIQ3252\n",
      "Found\n",
      "{'type': 'A320', 'flight_id': 'AIQ3252', 'engine_type': 'jet', 'engine_count': 2}\n",
      "AIQ3362\n",
      "Found\n",
      "{'type': 'A320', 'flight_id': 'AIQ3362', 'engine_type': 'jet', 'engine_count': 2}\n",
      "AIQ3437\n",
      "Not found\n",
      "AIQ512\n",
      "Found\n",
      "{'type': 'A320', 'flight_id': 'AIQ512', 'engine_type': 'jet', 'engine_count': 2}\n",
      "NOK100\n",
      "Not found\n",
      "NOK122\n",
      "Not found\n",
      "NOK340\n",
      "Not found\n",
      "NOK570\n",
      "Not found\n",
      "TLM702\n",
      "Found\n",
      "{'type': '737-800', 'flight_id': 'TLM702', 'engine_type': 'jet', 'engine_count': 2}\n"
     ]
    }
   ],
   "source": [
    "path = './ONLY_TEST/'\n",
    "csv_files = glob.glob(os.path.join(path, \"*.csv\"))\n",
    "for f in csv_files:\n",
    "    # print(f)\n",
    "    if os.name == 'nt':\n",
    "        filename = f.split('\\\\')[1]\n",
    "    else:\n",
    "        filename = f.split('/')[2]\n",
    "        \n",
    "    flight_id = filename.split('-')[0]\n",
    "    print(flight_id)\n",
    "    doc_ref = db.collection('aircraft_engine').document(f'{flight_id}')\n",
    "    docs = doc_ref.get()\n",
    "\n",
    "    if docs.exists:\n",
    "        print(\"Found\")\n",
    "        print(docs.to_dict())\n",
    "    else:\n",
    "        print(\"Not found\")\n",
    "        #----- get aircraft_type from flight_ID -----#\n",
    "        response = requests.get(apiUrl + f\"flights/{flight_id}\",headers=auth_header)\n",
    "\n",
    "        if response.status_code == 200:\n",
    "            # print(\"got aircraft_type\")\n",
    "            aircraft_type = response.json()['flights'][0]['aircraft_type']\n",
    "            \n",
    "            #----- get engine data from aircraft_type -----#\n",
    "            response = requests.get(apiUrl + f\"aircraft/types/{aircraft_type}\",headers=auth_header)\n",
    "            \n",
    "            if response.status_code == 200:\n",
    "                # print(\"got engine data\")\n",
    "                engine_data = response.json()\n",
    "                engine_data.pop('manufacturer', None)\n",
    "                engine_data.pop('description', None)\n",
    "                engine_data['flight_id'] = flight_id\n",
    "                \n",
    "                #----- add to firestore -----#\n",
    "                doc_ref = db.collection(f'aircraft_engine').document(f'{flight_id}')\n",
    "                doc_ref.set(engine_data)\n",
    "                \n",
    "            else:\n",
    "                print(\"Error executing request\")\n",
    "            \n",
    "        else:\n",
    "            print(\"Error executing request\")\n",
    "        \n",
    "        time.sleep(10)\n",
    "\n",
    "\n"
   ]
  },
  {
   "attachments": {},
   "cell_type": "markdown",
   "metadata": {},
   "source": [
    "# read NPD_ID"
   ]
  },
  {
   "cell_type": "code",
   "execution_count": 72,
   "metadata": {},
   "outputs": [
    {
     "name": "stdout",
     "output_type": "stream",
     "text": [
      "AIQ3029\n",
      "CFM565\n",
      "AIQ3102\n",
      "CFM565\n",
      "AIQ311\n",
      "CFM565\n",
      "AIQ3188\n",
      "CFM565\n",
      "AIQ3252\n",
      "CFM565\n",
      "AIQ3362\n",
      "CFM565\n",
      "AIQ3437\n",
      "CFM565\n",
      "AIQ512\n",
      "CFM565\n",
      "NOK100\n",
      "CF567B\n",
      "NOK122\n",
      "CF567B\n",
      "NOK340\n",
      "PW120\n",
      "NOK570\n",
      "CF567B\n",
      "TLM702\n",
      "CF567B\n"
     ]
    }
   ],
   "source": [
    "path = './ONLY_TEST/'\n",
    "csv_files = glob.glob(os.path.join(path, \"*.csv\"))\n",
    "for f in csv_files:\n",
    "    # print(f)\n",
    "    if os.name == 'nt':\n",
    "        filename = f.split('\\\\')[1]\n",
    "    else:\n",
    "        filename = f.split('/')[2]\n",
    "        \n",
    "    flight_id = filename.split('-')[0]\n",
    "    print(flight_id)\n",
    "    \n",
    "    #----- find ACFT_ID -----#\n",
    "    acft_ref = db.collection(f'aircraft_engine').document(f'{flight_id}')\n",
    "    acft_docs = acft_ref.get()\n",
    "\n",
    "    if acft_docs.exists:\n",
    "        # print(\"Found\")\n",
    "        acft_docs = acft_docs.to_dict()\n",
    "        ACFT_ID = acft_docs['type']\n",
    "        # print(ACFT_ID)\n",
    "    else:\n",
    "        # print(\"Not found\")\n",
    "        continue\n",
    "    \n",
    "    #----- find NPD_ID -----#\n",
    "    npd_ref = db.collection(f'NPD_ID').document(f'{ACFT_ID}')\n",
    "    npd_docs = npd_ref.get()\n",
    "    \n",
    "    if npd_docs.exists:\n",
    "        # print(\"Found\")\n",
    "        npd_docs = npd_docs.to_dict()\n",
    "        NPD_ID = npd_docs['NPD_ID']\n",
    "        print(NPD_ID)\n",
    "    else:\n",
    "        print(\"Not found\")\n",
    "        continue\n",
    "    \n",
    "    \n"
   ]
  },
  {
   "cell_type": "code",
   "execution_count": null,
   "metadata": {},
   "outputs": [],
   "source": []
  }
 ],
 "metadata": {
  "kernelspec": {
   "display_name": "newenv",
   "language": "python",
   "name": "python3"
  },
  "language_info": {
   "codemirror_mode": {
    "name": "ipython",
    "version": 3
   },
   "file_extension": ".py",
   "mimetype": "text/x-python",
   "name": "python",
   "nbconvert_exporter": "python",
   "pygments_lexer": "ipython3",
   "version": "3.10.2"
  },
  "orig_nbformat": 4,
  "vscode": {
   "interpreter": {
    "hash": "ac71981e6f890dc801fdae2a82ae8fd86c5f03e19859ebfcb9b552b27fc94c2c"
   }
  }
 },
 "nbformat": 4,
 "nbformat_minor": 2
}
