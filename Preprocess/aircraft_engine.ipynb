{
 "cells": [
  {
   "cell_type": "code",
   "execution_count": 1,
   "metadata": {},
   "outputs": [],
   "source": [
    "import pandas as pd\n",
    "import numpy as np\n",
    "import scipy as sp\n",
    "from scipy import integrate\n",
    "import geopy.distance\n",
    "import matplotlib.pyplot as plt\n",
    "import seaborn as sns\n",
    "import os\n",
    "import glob\n",
    "import requests\n",
    "import time\n",
    "\n",
    "import firebase_admin\n",
    "from firebase_admin import credentials\n",
    "from firebase_admin import firestore"
   ]
  },
  {
   "cell_type": "code",
   "execution_count": 2,
   "metadata": {},
   "outputs": [],
   "source": [
    "cred = credentials.Certificate('./../Backend/serviceAccount.json')\n",
    "app_firebase = firebase_admin.initialize_app(cred)\n",
    "db = firestore.client()"
   ]
  },
  {
   "cell_type": "code",
   "execution_count": 3,
   "metadata": {},
   "outputs": [],
   "source": [
    "import sys\n",
    " \n",
    "sys.path.append('./../Backend/')"
   ]
  },
  {
   "cell_type": "code",
   "execution_count": 4,
   "metadata": {},
   "outputs": [],
   "source": [
    "\n",
    "from key_value.token import apiKey, apiUrl, auth_header\n",
    "\n",
    "\n",
    " \n"
   ]
  },
  {
   "cell_type": "code",
   "execution_count": 5,
   "metadata": {},
   "outputs": [
    {
     "data": {
      "text/plain": [
       "{'x-apikey': 'IaF6zOUaj8VG4ambmUwOodEFaxBnrR3A'}"
      ]
     },
     "execution_count": 5,
     "metadata": {},
     "output_type": "execute_result"
    }
   ],
   "source": [
    "auth_header"
   ]
  },
  {
   "cell_type": "code",
   "execution_count": 15,
   "metadata": {},
   "outputs": [
    {
     "name": "stdout",
     "output_type": "stream",
     "text": [
      "Found\n",
      "Found\n",
      "Found\n",
      "Found\n",
      "Found\n",
      "Found\n",
      "Found\n",
      "Found\n",
      "Found\n",
      "Found\n",
      "Found\n",
      "Found\n",
      "Found\n",
      "Found\n",
      "Found\n",
      "Found\n",
      "Found\n",
      "Found\n",
      "Found\n",
      "Found\n",
      "Found\n",
      "Not found NOK532\n",
      "Found\n",
      "Not found NOK578\n",
      "Found\n",
      "Found\n",
      "Found\n",
      "Found\n"
     ]
    }
   ],
   "source": [
    "path = './ONLY_TEST/'\n",
    "csv_files = glob.glob(os.path.join(path, \"*.csv\"))\n",
    "for f in csv_files:\n",
    "    # print(f)\n",
    "    if os.name == 'nt':\n",
    "        filename = f.split('\\\\')[1]\n",
    "    else:\n",
    "        filename = f.split('/')[2]\n",
    "        \n",
    "    flight_id = filename.split('-')[0]\n",
    "    # print(flight_id)\n",
    "    doc_ref = db.collection('aircraft_engine').document(f'{flight_id}')\n",
    "    docs = doc_ref.get()\n",
    "\n",
    "    if docs.exists:\n",
    "        print(\"Found\")\n",
    "        # print(docs.to_dict())\n",
    "    else:\n",
    "        print(\"Not found\", flight_id)\n",
    "        #----- get aircraft_type from flight_ID -----#\n",
    "        response = requests.get(apiUrl + f\"flights/{flight_id}\",headers=auth_header)\n",
    "\n",
    "        if response.status_code == 200:\n",
    "            # print(\"got aircraft_type\")\n",
    "            aircraft_type = response.json()['flights'][0]['aircraft_type']\n",
    "            \n",
    "            #----- get engine data from aircraft_type -----#\n",
    "            response = requests.get(apiUrl + f\"aircraft/types/{aircraft_type}\",headers=auth_header)\n",
    "            \n",
    "            if response.status_code == 200:\n",
    "                # print(\"got engine data\")\n",
    "                engine_data = response.json()\n",
    "                engine_data.pop('manufacturer', None)\n",
    "                engine_data.pop('description', None)\n",
    "                engine_data['flight_id'] = flight_id\n",
    "                \n",
    "                #----- add to firestore -----#\n",
    "                doc_ref = db.collection(f'aircraft_engine').document(f'{flight_id}')\n",
    "                doc_ref.set(engine_data)\n",
    "                \n",
    "            else:\n",
    "                print(\"Error executing request\")\n",
    "            \n",
    "        else:\n",
    "            print(\"Error executing request\")\n",
    "        \n",
    "        type_engine = engine_data['type']\n",
    "        docs_engine = db.collection(f'NPD_ID').document(f'{type_engine}').get()\n",
    "        if not docs_engine.exists:\n",
    "            print(f'engine of {flight_id} not found\\n', type_engine)\n",
    "\n",
    "\n",
    "        time.sleep(10)\n",
    "    \n",
    "\n",
    "\n"
   ]
  },
  {
   "attachments": {},
   "cell_type": "markdown",
   "metadata": {},
   "source": [
    "# read NPD_ID"
   ]
  },
  {
   "cell_type": "code",
   "execution_count": 16,
   "metadata": {},
   "outputs": [],
   "source": [
    "path = './ONLY_TEST/'\n",
    "csv_files = glob.glob(os.path.join(path, \"*.csv\"))\n",
    "for f in csv_files:\n",
    "    # print(f)\n",
    "    if os.name == 'nt':\n",
    "        filename = f.split('\\\\')[1]\n",
    "    else:\n",
    "        filename = f.split('/')[2]\n",
    "        \n",
    "    flight_id = filename.split('-')[0]\n",
    "    # print(flight_id)\n",
    "    \n",
    "    #----- find ACFT_ID -----#\n",
    "    acft_ref = db.collection(f'aircraft_engine').document(f'{flight_id}')\n",
    "    acft_docs = acft_ref.get()\n",
    "\n",
    "    if acft_docs.exists:\n",
    "        # print(\"Found\")\n",
    "        acft_docs = acft_docs.to_dict()\n",
    "        ACFT_ID = acft_docs['type']\n",
    "        # print(ACFT_ID)\n",
    "    else:\n",
    "        print(\"Not found\",flight_id)\n",
    "        continue\n",
    "    \n",
    "    #----- find NPD_ID -----#\n",
    "    npd_ref = db.collection(f'NPD_ID').document(f'{ACFT_ID}')\n",
    "    npd_docs = npd_ref.get()\n",
    "    \n",
    "    if npd_docs.exists:\n",
    "        # print(\"Found\")\n",
    "        npd_docs = npd_docs.to_dict()\n",
    "        NPD_ID = npd_docs['NPD_ID']\n",
    "        # print(NPD_ID)\n",
    "    else:\n",
    "        print(\"----------------Not found------------\",flight_id)\n",
    "        continue\n",
    "    \n",
    "    \n"
   ]
  },
  {
   "cell_type": "code",
   "execution_count": null,
   "metadata": {},
   "outputs": [],
   "source": []
  }
 ],
 "metadata": {
  "kernelspec": {
   "display_name": "newenv",
   "language": "python",
   "name": "python3"
  },
  "language_info": {
   "codemirror_mode": {
    "name": "ipython",
    "version": 3
   },
   "file_extension": ".py",
   "mimetype": "text/x-python",
   "name": "python",
   "nbconvert_exporter": "python",
   "pygments_lexer": "ipython3",
   "version": "3.10.2"
  },
  "orig_nbformat": 4,
  "vscode": {
   "interpreter": {
    "hash": "ac71981e6f890dc801fdae2a82ae8fd86c5f03e19859ebfcb9b552b27fc94c2c"
   }
  }
 },
 "nbformat": 4,
 "nbformat_minor": 2
}
