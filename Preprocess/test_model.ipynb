{
 "cells": [
  {
   "cell_type": "code",
   "execution_count": 133,
   "metadata": {},
   "outputs": [],
   "source": [
    "import pandas as pd\n",
    "import numpy as np\n",
    "import scipy as sp\n",
    "from scipy import integrate\n",
    "import geopy.distance\n",
    "import matplotlib.pyplot as plt\n",
    "import seaborn as sns\n",
    "import os\n",
    "import glob\n",
    "import requests\n",
    "import time\n",
    "import math\n",
    "import itertools\n",
    "import sys\n",
    "from sklearn.linear_model import LinearRegression\n",
    "\n",
    "import firebase_admin\n",
    "from firebase_admin import credentials\n",
    "from firebase_admin import firestore"
   ]
  },
  {
   "cell_type": "code",
   "execution_count": 134,
   "metadata": {},
   "outputs": [],
   "source": [
    "npd = pd.read_csv('./../Preprocess/data/ANP2.2_NPD_data.csv',delimiter=';', skiprows=[0])\n"
   ]
  },
  {
   "cell_type": "code",
   "execution_count": 135,
   "metadata": {},
   "outputs": [
    {
     "data": {
      "text/html": [
       "<div>\n",
       "<style scoped>\n",
       "    .dataframe tbody tr th:only-of-type {\n",
       "        vertical-align: middle;\n",
       "    }\n",
       "\n",
       "    .dataframe tbody tr th {\n",
       "        vertical-align: top;\n",
       "    }\n",
       "\n",
       "    .dataframe thead th {\n",
       "        text-align: right;\n",
       "    }\n",
       "</style>\n",
       "<table border=\"1\" class=\"dataframe\">\n",
       "  <thead>\n",
       "    <tr style=\"text-align: right;\">\n",
       "      <th></th>\n",
       "      <th>NPD_ID</th>\n",
       "      <th>Noise Metric</th>\n",
       "      <th>Op Mode</th>\n",
       "      <th>Power Setting</th>\n",
       "      <th>L_200ft</th>\n",
       "      <th>L_400ft</th>\n",
       "      <th>L_630ft</th>\n",
       "      <th>L_1000ft</th>\n",
       "      <th>L_2000ft</th>\n",
       "      <th>L_4000ft</th>\n",
       "      <th>L_6300ft</th>\n",
       "      <th>L_10000ft</th>\n",
       "      <th>L_16000ft</th>\n",
       "      <th>L_25000ft</th>\n",
       "    </tr>\n",
       "  </thead>\n",
       "  <tbody>\n",
       "    <tr>\n",
       "      <th>811</th>\n",
       "      <td>CF567B</td>\n",
       "      <td>LAmax</td>\n",
       "      <td>D</td>\n",
       "      <td>10000.0</td>\n",
       "      <td>95.2</td>\n",
       "      <td>87.9</td>\n",
       "      <td>83.6</td>\n",
       "      <td>78.8</td>\n",
       "      <td>71.3</td>\n",
       "      <td>63.0</td>\n",
       "      <td>57.3</td>\n",
       "      <td>50.4</td>\n",
       "      <td>44.2</td>\n",
       "      <td>36.9</td>\n",
       "    </tr>\n",
       "    <tr>\n",
       "      <th>812</th>\n",
       "      <td>CF567B</td>\n",
       "      <td>LAmax</td>\n",
       "      <td>D</td>\n",
       "      <td>13000.0</td>\n",
       "      <td>98.1</td>\n",
       "      <td>91.0</td>\n",
       "      <td>86.7</td>\n",
       "      <td>82.0</td>\n",
       "      <td>74.5</td>\n",
       "      <td>66.3</td>\n",
       "      <td>60.7</td>\n",
       "      <td>53.9</td>\n",
       "      <td>46.9</td>\n",
       "      <td>39.6</td>\n",
       "    </tr>\n",
       "    <tr>\n",
       "      <th>813</th>\n",
       "      <td>CF567B</td>\n",
       "      <td>LAmax</td>\n",
       "      <td>D</td>\n",
       "      <td>16000.0</td>\n",
       "      <td>100.5</td>\n",
       "      <td>93.7</td>\n",
       "      <td>89.3</td>\n",
       "      <td>84.6</td>\n",
       "      <td>77.3</td>\n",
       "      <td>69.2</td>\n",
       "      <td>63.5</td>\n",
       "      <td>56.8</td>\n",
       "      <td>49.4</td>\n",
       "      <td>42.1</td>\n",
       "    </tr>\n",
       "    <tr>\n",
       "      <th>814</th>\n",
       "      <td>CF567B</td>\n",
       "      <td>LAmax</td>\n",
       "      <td>D</td>\n",
       "      <td>19000.0</td>\n",
       "      <td>102.7</td>\n",
       "      <td>96.0</td>\n",
       "      <td>91.7</td>\n",
       "      <td>87.1</td>\n",
       "      <td>79.7</td>\n",
       "      <td>71.7</td>\n",
       "      <td>66.1</td>\n",
       "      <td>59.5</td>\n",
       "      <td>52.2</td>\n",
       "      <td>44.9</td>\n",
       "    </tr>\n",
       "    <tr>\n",
       "      <th>815</th>\n",
       "      <td>CF567B</td>\n",
       "      <td>LAmax</td>\n",
       "      <td>D</td>\n",
       "      <td>23500.0</td>\n",
       "      <td>107.2</td>\n",
       "      <td>100.9</td>\n",
       "      <td>96.5</td>\n",
       "      <td>91.9</td>\n",
       "      <td>84.7</td>\n",
       "      <td>76.8</td>\n",
       "      <td>71.4</td>\n",
       "      <td>64.6</td>\n",
       "      <td>57.7</td>\n",
       "      <td>50.4</td>\n",
       "    </tr>\n",
       "  </tbody>\n",
       "</table>\n",
       "</div>"
      ],
      "text/plain": [
       "     NPD_ID Noise Metric Op Mode  Power Setting  L_200ft  L_400ft  L_630ft  \\\n",
       "811  CF567B        LAmax       D        10000.0     95.2     87.9     83.6   \n",
       "812  CF567B        LAmax       D        13000.0     98.1     91.0     86.7   \n",
       "813  CF567B        LAmax       D        16000.0    100.5     93.7     89.3   \n",
       "814  CF567B        LAmax       D        19000.0    102.7     96.0     91.7   \n",
       "815  CF567B        LAmax       D        23500.0    107.2    100.9     96.5   \n",
       "\n",
       "     L_1000ft  L_2000ft  L_4000ft  L_6300ft  L_10000ft  L_16000ft  L_25000ft  \n",
       "811      78.8      71.3      63.0      57.3       50.4       44.2       36.9  \n",
       "812      82.0      74.5      66.3      60.7       53.9       46.9       39.6  \n",
       "813      84.6      77.3      69.2      63.5       56.8       49.4       42.1  \n",
       "814      87.1      79.7      71.7      66.1       59.5       52.2       44.9  \n",
       "815      91.9      84.7      76.8      71.4       64.6       57.7       50.4  "
      ]
     },
     "execution_count": 135,
     "metadata": {},
     "output_type": "execute_result"
    }
   ],
   "source": [
    "# npd = npd[ (npd.NPD_ID == 'CF567B') & (npd[\"Op Mode\"]=='D')]\n",
    "npd = npd.query('NPD_ID == \"CF567B\" and `Op Mode` == \"D\" and `Noise Metric` == \"LAmax\" ')\n",
    "npd"
   ]
  },
  {
   "cell_type": "code",
   "execution_count": 136,
   "metadata": {},
   "outputs": [],
   "source": [
    "npd.set_index('Power Setting', inplace=True)\n",
    "npd = npd.drop(columns=['NPD_ID','Noise Metric','Op Mode']).T.reset_index()\n",
    "npd.rename(columns={'index':'distance'},inplace=True)"
   ]
  },
  {
   "cell_type": "code",
   "execution_count": 137,
   "metadata": {},
   "outputs": [],
   "source": [
    "def get_feet(distance):\n",
    "    feet = distance.split('_')[1]\n",
    "    return float(feet[:-2])\n",
    "npd['distance'] = npd['distance'].apply(get_feet)"
   ]
  },
  {
   "cell_type": "code",
   "execution_count": 138,
   "metadata": {},
   "outputs": [
    {
     "data": {
      "text/html": [
       "<div>\n",
       "<style scoped>\n",
       "    .dataframe tbody tr th:only-of-type {\n",
       "        vertical-align: middle;\n",
       "    }\n",
       "\n",
       "    .dataframe tbody tr th {\n",
       "        vertical-align: top;\n",
       "    }\n",
       "\n",
       "    .dataframe thead th {\n",
       "        text-align: right;\n",
       "    }\n",
       "</style>\n",
       "<table border=\"1\" class=\"dataframe\">\n",
       "  <thead>\n",
       "    <tr style=\"text-align: right;\">\n",
       "      <th></th>\n",
       "      <th>distance</th>\n",
       "      <th>10000.0</th>\n",
       "      <th>13000.0</th>\n",
       "      <th>16000.0</th>\n",
       "      <th>19000.0</th>\n",
       "      <th>23500.0</th>\n",
       "    </tr>\n",
       "  </thead>\n",
       "  <tbody>\n",
       "    <tr>\n",
       "      <th>0</th>\n",
       "      <td>200.0</td>\n",
       "      <td>95.2</td>\n",
       "      <td>98.1</td>\n",
       "      <td>100.5</td>\n",
       "      <td>102.7</td>\n",
       "      <td>107.2</td>\n",
       "    </tr>\n",
       "    <tr>\n",
       "      <th>1</th>\n",
       "      <td>400.0</td>\n",
       "      <td>87.9</td>\n",
       "      <td>91.0</td>\n",
       "      <td>93.7</td>\n",
       "      <td>96.0</td>\n",
       "      <td>100.9</td>\n",
       "    </tr>\n",
       "    <tr>\n",
       "      <th>2</th>\n",
       "      <td>630.0</td>\n",
       "      <td>83.6</td>\n",
       "      <td>86.7</td>\n",
       "      <td>89.3</td>\n",
       "      <td>91.7</td>\n",
       "      <td>96.5</td>\n",
       "    </tr>\n",
       "    <tr>\n",
       "      <th>3</th>\n",
       "      <td>1000.0</td>\n",
       "      <td>78.8</td>\n",
       "      <td>82.0</td>\n",
       "      <td>84.6</td>\n",
       "      <td>87.1</td>\n",
       "      <td>91.9</td>\n",
       "    </tr>\n",
       "    <tr>\n",
       "      <th>4</th>\n",
       "      <td>2000.0</td>\n",
       "      <td>71.3</td>\n",
       "      <td>74.5</td>\n",
       "      <td>77.3</td>\n",
       "      <td>79.7</td>\n",
       "      <td>84.7</td>\n",
       "    </tr>\n",
       "    <tr>\n",
       "      <th>5</th>\n",
       "      <td>4000.0</td>\n",
       "      <td>63.0</td>\n",
       "      <td>66.3</td>\n",
       "      <td>69.2</td>\n",
       "      <td>71.7</td>\n",
       "      <td>76.8</td>\n",
       "    </tr>\n",
       "    <tr>\n",
       "      <th>6</th>\n",
       "      <td>6300.0</td>\n",
       "      <td>57.3</td>\n",
       "      <td>60.7</td>\n",
       "      <td>63.5</td>\n",
       "      <td>66.1</td>\n",
       "      <td>71.4</td>\n",
       "    </tr>\n",
       "    <tr>\n",
       "      <th>7</th>\n",
       "      <td>10000.0</td>\n",
       "      <td>50.4</td>\n",
       "      <td>53.9</td>\n",
       "      <td>56.8</td>\n",
       "      <td>59.5</td>\n",
       "      <td>64.6</td>\n",
       "    </tr>\n",
       "    <tr>\n",
       "      <th>8</th>\n",
       "      <td>16000.0</td>\n",
       "      <td>44.2</td>\n",
       "      <td>46.9</td>\n",
       "      <td>49.4</td>\n",
       "      <td>52.2</td>\n",
       "      <td>57.7</td>\n",
       "    </tr>\n",
       "    <tr>\n",
       "      <th>9</th>\n",
       "      <td>25000.0</td>\n",
       "      <td>36.9</td>\n",
       "      <td>39.6</td>\n",
       "      <td>42.1</td>\n",
       "      <td>44.9</td>\n",
       "      <td>50.4</td>\n",
       "    </tr>\n",
       "  </tbody>\n",
       "</table>\n",
       "</div>"
      ],
      "text/plain": [
       "   distance  10000.0  13000.0  16000.0  19000.0  23500.0\n",
       "0     200.0     95.2     98.1    100.5    102.7    107.2\n",
       "1     400.0     87.9     91.0     93.7     96.0    100.9\n",
       "2     630.0     83.6     86.7     89.3     91.7     96.5\n",
       "3    1000.0     78.8     82.0     84.6     87.1     91.9\n",
       "4    2000.0     71.3     74.5     77.3     79.7     84.7\n",
       "5    4000.0     63.0     66.3     69.2     71.7     76.8\n",
       "6    6300.0     57.3     60.7     63.5     66.1     71.4\n",
       "7   10000.0     50.4     53.9     56.8     59.5     64.6\n",
       "8   16000.0     44.2     46.9     49.4     52.2     57.7\n",
       "9   25000.0     36.9     39.6     42.1     44.9     50.4"
      ]
     },
     "execution_count": 138,
     "metadata": {},
     "output_type": "execute_result"
    }
   ],
   "source": [
    "npd.columns = [str(col) for col in npd.columns]\n",
    "npd"
   ]
  },
  {
   "cell_type": "code",
   "execution_count": null,
   "metadata": {},
   "outputs": [],
   "source": []
  },
  {
   "cell_type": "code",
   "execution_count": 139,
   "metadata": {},
   "outputs": [],
   "source": [
    "x = npd['distance'].values.reshape(-1, 1)\n",
    "y = npd['10000.0'].values.reshape(-1, 1)\n"
   ]
  },
  {
   "cell_type": "code",
   "execution_count": 140,
   "metadata": {},
   "outputs": [
    {
     "data": {
      "text/plain": [
       "array([[  200.],\n",
       "       [  400.],\n",
       "       [  630.],\n",
       "       [ 1000.],\n",
       "       [ 2000.],\n",
       "       [ 4000.],\n",
       "       [ 6300.],\n",
       "       [10000.],\n",
       "       [16000.],\n",
       "       [25000.]])"
      ]
     },
     "execution_count": 140,
     "metadata": {},
     "output_type": "execute_result"
    }
   ],
   "source": [
    "x"
   ]
  },
  {
   "cell_type": "code",
   "execution_count": 141,
   "metadata": {},
   "outputs": [],
   "source": [
    "x_inv_square = 1 / (x**2)\n",
    "x_transformed = np.c_[x, x_inv_square]"
   ]
  },
  {
   "cell_type": "code",
   "execution_count": 142,
   "metadata": {},
   "outputs": [
    {
     "data": {
      "text/plain": [
       "array([[2.00000000e+02, 2.50000000e-05],\n",
       "       [4.00000000e+02, 6.25000000e-06],\n",
       "       [6.30000000e+02, 2.51952633e-06],\n",
       "       [1.00000000e+03, 1.00000000e-06],\n",
       "       [2.00000000e+03, 2.50000000e-07],\n",
       "       [4.00000000e+03, 6.25000000e-08],\n",
       "       [6.30000000e+03, 2.51952633e-08],\n",
       "       [1.00000000e+04, 1.00000000e-08],\n",
       "       [1.60000000e+04, 3.90625000e-09],\n",
       "       [2.50000000e+04, 1.60000000e-09]])"
      ]
     },
     "execution_count": 142,
     "metadata": {},
     "output_type": "execute_result"
    }
   ],
   "source": [
    "x_transformed"
   ]
  },
  {
   "cell_type": "code",
   "execution_count": 143,
   "metadata": {},
   "outputs": [],
   "source": [
    "# x_log = np.log(y)\n",
    "# x_transformed = np.c_[x, x_log]\n"
   ]
  },
  {
   "cell_type": "code",
   "execution_count": 144,
   "metadata": {},
   "outputs": [],
   "source": [
    "reg = LinearRegression().fit(x_transformed, y)\n",
    "# reg = LinearRegression().fit(x_inv_square, y)\n",
    "# reg = LinearRegression().fit(x_log,y)\n",
    "\n"
   ]
  },
  {
   "cell_type": "code",
   "execution_count": 145,
   "metadata": {},
   "outputs": [],
   "source": [
    "x_pred = np.array([200,500,630.0, 1000.0,2000.0, 4000.0,6300.0,10000, 15000, 30000,50000]).reshape(-1, 1)\n",
    "# x_pred = npd['distance'].values.reshape(-1, 1)\n",
    "\n",
    "x_pred_inv_square = 1 / (x_pred**2)\n",
    "x_pred_transformed = np.c_[x_pred, x_pred_inv_square]\n",
    "# y_pred = reg.predict(x_pred_transformed)\n",
    "y_pred = reg.predict(x_pred_inv_square)\n",
    "\n",
    "# x_log_pred = reg.predict(x_pred)\n",
    "# y_pred = np.exp(x_log_pred)\n",
    "\n"
   ]
  },
  {
   "cell_type": "code",
   "execution_count": 146,
   "metadata": {},
   "outputs": [
    {
     "data": {
      "image/png": "[encoded data removed]",
      "text/plain": [
       "<Figure size 432x288 with 1 Axes>"
      ]
     },
     "metadata": {
      "needs_background": "light"
     },
     "output_type": "display_data"
    }
   ],
   "source": [
    "plt.scatter(x, y, color='red')\n",
    "plt.plot(x_pred, y_pred, color='blue')\n",
    "plt.xlabel('X')\n",
    "plt.ylabel('Y')\n",
    "plt.show()\n"
   ]
  },
  {
   "cell_type": "code",
   "execution_count": 153,
   "metadata": {},
   "outputs": [
    {
     "data": {
      "text/plain": [
       "array([[101.92470299],\n",
       "       [ 67.65589664],\n",
       "       [ 65.23998876],\n",
       "       [ 62.76035288],\n",
       "       [ 61.53646694],\n",
       "       [ 61.23049545],\n",
       "       [ 61.1696198 ],\n",
       "       [ 61.14482344],\n",
       "       [ 61.13575762],\n",
       "       [ 61.13031812],\n",
       "       [ 61.1291577 ]])"
      ]
     },
     "execution_count": 153,
     "metadata": {},
     "output_type": "execute_result"
    }
   ],
   "source": [
    "y_pred"
   ]
  },
  {
   "cell_type": "code",
   "execution_count": 154,
   "metadata": {},
   "outputs": [
    {
     "data": {
      "text/plain": [
       "array([[1631847.92126584]])"
      ]
     },
     "execution_count": 154,
     "metadata": {},
     "output_type": "execute_result"
    }
   ],
   "source": [
    "reg.coef_"
   ]
  },
  {
   "cell_type": "code",
   "execution_count": 155,
   "metadata": {},
   "outputs": [
    {
     "data": {
      "text/plain": [
       "array([61.12850496])"
      ]
     },
     "execution_count": 155,
     "metadata": {},
     "output_type": "execute_result"
    }
   ],
   "source": [
    "reg.intercept_"
   ]
  },
  {
   "cell_type": "code",
   "execution_count": 151,
   "metadata": {},
   "outputs": [
    {
     "data": {
      "text/plain": [
       "array([[2.50000000e-05],\n",
       "       [6.25000000e-06],\n",
       "       [2.51952633e-06],\n",
       "       [1.00000000e-06],\n",
       "       [2.50000000e-07],\n",
       "       [6.25000000e-08],\n",
       "       [2.51952633e-08],\n",
       "       [1.00000000e-08],\n",
       "       [3.90625000e-09],\n",
       "       [1.60000000e-09]])"
      ]
     },
     "execution_count": 151,
     "metadata": {},
     "output_type": "execute_result"
    }
   ],
   "source": [
    "x_inv_square"
   ]
  },
  {
   "cell_type": "code",
   "execution_count": 156,
   "metadata": {},
   "outputs": [
    {
     "data": {
      "text/plain": [
       "array([[101.92470299],\n",
       "       [ 71.32755447],\n",
       "       [ 65.23998876],\n",
       "       [ 62.76035288],\n",
       "       [ 61.53646694],\n",
       "       [ 61.23049545],\n",
       "       [ 61.1696198 ],\n",
       "       [ 61.14482344],\n",
       "       [ 61.13487936],\n",
       "       [ 61.13111591]])"
      ]
     },
     "execution_count": 156,
     "metadata": {},
     "output_type": "execute_result"
    }
   ],
   "source": [
    "x_inv_square*reg.coef_[0][0] +reg.intercept_"
   ]
  },
  {
   "cell_type": "code",
   "execution_count": null,
   "metadata": {},
   "outputs": [
    {
     "data": {
      "text/plain": [
       "array([-1.80637485e-03,  9.10240933e+05])"
      ]
     },
     "execution_count": 118,
     "metadata": {},
     "output_type": "execute_result"
    }
   ],
   "source": [
    "reg.coef_[0]"
   ]
  },
  {
   "cell_type": "code",
   "execution_count": null,
   "metadata": {},
   "outputs": [
    {
     "data": {
      "text/plain": [
       "array([[95.2],\n",
       "       [87.9],\n",
       "       [83.6],\n",
       "       [78.8],\n",
       "       [71.3],\n",
       "       [63. ],\n",
       "       [57.3],\n",
       "       [50.4],\n",
       "       [44.2],\n",
       "       [36.9]])"
      ]
     },
     "execution_count": 113,
     "metadata": {},
     "output_type": "execute_result"
    }
   ],
   "source": [
    "y"
   ]
  },
  {
   "cell_type": "code",
   "execution_count": null,
   "metadata": {},
   "outputs": [],
   "source": []
  }
 ],
 "metadata": {
  "kernelspec": {
   "display_name": "base",
   "language": "python",
   "name": "python3"
  },
  "language_info": {
   "codemirror_mode": {
    "name": "ipython",
    "version": 3
   },
   "file_extension": ".py",
   "mimetype": "text/x-python",
   "name": "python",
   "nbconvert_exporter": "python",
   "pygments_lexer": "ipython3",
   "version": "3.9.7"
  },
  "orig_nbformat": 4,
  "vscode": {
   "interpreter": {
    "hash": "a5147bdb3c66465122a838870151ee4bc0535599ee4767a57af24ca7ce03a693"
   }
  }
 },
 "nbformat": 4,
 "nbformat_minor": 2
}
