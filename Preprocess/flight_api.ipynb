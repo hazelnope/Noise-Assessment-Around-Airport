{
 "cells": [
  {
   "cell_type": "code",
   "execution_count": null,
   "metadata": {},
   "outputs": [],
   "source": [
    "import requests\n",
    "import pandas as pd"
   ]
  },
  {
   "cell_type": "code",
   "execution_count": null,
   "metadata": {},
   "outputs": [],
   "source": [
    "apiKey = \"IaF6zOUaj8VG4ambmUwOodEFaxBnrR3A\"\n",
    "apiUrl = \"https://aeroapi.flightaware.com/aeroapi/\""
   ]
  },
  {
   "cell_type": "code",
   "execution_count": null,
   "metadata": {},
   "outputs": [],
   "source": [
    "# id = 'TLM116-1664732580-schedule-0836'\n",
    "# payload = {'max_pages': 2}\n",
    "# auth_header = {'x-apikey':apiKey}\n",
    "\n",
    "# response = requests.get(apiUrl + f\"flights/{id}/track\",\n",
    "#  headers=auth_header)\n",
    "\n",
    "# if response.status_code == 200:\n",
    "#     print(response.json())\n",
    "# else:\n",
    "#     print(\"Error executing request\")\n"
   ]
  },
  {
   "cell_type": "code",
   "execution_count": null,
   "metadata": {},
   "outputs": [],
   "source": [
    "import json\n",
    "\n",
    "print(json.dumps(response.json(), indent=4))"
   ]
  },
  {
   "cell_type": "code",
   "execution_count": null,
   "metadata": {},
   "outputs": [],
   "source": [
    "# pd.read_json('sample_flight.json')\n",
    "df = pd.DataFrame.from_dict(response.json()['positions'])\n",
    "df"
   ]
  },
  {
   "cell_type": "code",
   "execution_count": null,
   "metadata": {},
   "outputs": [],
   "source": [
    "# print(response.json()['positions'])"
   ]
  },
  {
   "cell_type": "code",
   "execution_count": null,
   "metadata": {},
   "outputs": [],
   "source": [
    "df['fa_flight_id'] = id\n",
    "# df.to_csv('Sample_data1.csv',index = False)"
   ]
  }
 ],
 "metadata": {
  "language_info": {
   "name": "python"
  },
  "orig_nbformat": 4
 },
 "nbformat": 4,
 "nbformat_minor": 2
}
