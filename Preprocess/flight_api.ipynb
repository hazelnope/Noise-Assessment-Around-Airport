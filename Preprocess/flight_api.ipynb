{
 "cells": [
  {
   "cell_type": "code",
   "execution_count": 1,
   "metadata": {
    "collapsed": false,
    "pycharm": {
     "name": "#%%\n"
    }
   },
   "outputs": [
    {
     "ename": "ModuleNotFoundError",
     "evalue": "No module named 'requests'",
     "output_type": "error",
     "traceback": [
      "\u001b[1;31m---------------------------------------------------------------------------\u001b[0m",
      "\u001b[1;31mModuleNotFoundError\u001b[0m                       Traceback (most recent call last)",
      "Cell \u001b[1;32mIn[1], line 1\u001b[0m\n\u001b[1;32m----> 1\u001b[0m \u001b[38;5;28;01mimport\u001b[39;00m \u001b[38;5;21;01mrequests\u001b[39;00m\n\u001b[0;32m      2\u001b[0m \u001b[38;5;28;01mimport\u001b[39;00m \u001b[38;5;21;01mpandas\u001b[39;00m \u001b[38;5;28;01mas\u001b[39;00m \u001b[38;5;21;01mpd\u001b[39;00m\n\u001b[0;32m      3\u001b[0m \u001b[38;5;28;01mimport\u001b[39;00m \u001b[38;5;21;01mnumpy\u001b[39;00m \u001b[38;5;28;01mas\u001b[39;00m \u001b[38;5;21;01mnp\u001b[39;00m\n",
      "\u001b[1;31mModuleNotFoundError\u001b[0m: No module named 'requests'"
     ]
    }
   ],
   "source": [
    "import requests\n",
    "import pandas as pd\n",
    "import numpy as np\n",
    "import json\n",
    "import time"
   ]
  },
  {
   "cell_type": "code",
   "execution_count": null,
   "metadata": {},
   "outputs": [],
   "source": [
    "apiKey = \"IaF6zOUaj8VG4ambmUwOodEFaxBnrR3A\"\n",
    "apiUrl = \"https://aeroapi.flightaware.com/aeroapi/\"\n",
    "auth_header = {'x-apikey':apiKey}"
   ]
  },
  {
   "cell_type": "markdown",
   "metadata": {},
   "source": [
    "# GET flights from DMK airport"
   ]
  },
  {
   "cell_type": "code",
   "execution_count": null,
   "metadata": {},
   "outputs": [],
   "source": [
    "Airport_id = 'DMK'\n",
    "Airport_start = '2022-12-01T00:00:00Z'\n",
    "Airport_end = '2022-12-04T00:00:00Z'\n",
    "\n",
    "# Y-M-D\n",
    "# 1) 2022-12-01 - 2022-12-04\n"
   ]
  },
  {
   "cell_type": "code",
   "execution_count": null,
   "metadata": {},
   "outputs": [],
   "source": [
    "# #----- get flight data from DMK airport -----#\n",
    "\n",
    "response = requests.get(apiUrl + f\"airports/{Airport_id}/flights?start=2022-12-26T08%3A00%3A00Z&end=2022-12-26T11%3A00%3A00Z\",\n",
    " headers=auth_header)\n",
    "\n",
    "# if response.status_code == 200:\n",
    "#     print(response.json())\n",
    "# else:\n",
    "#     print(\"Error executing request\")"
   ]
  },
  {
   "cell_type": "code",
   "execution_count": null,
   "metadata": {},
   "outputs": [],
   "source": [
    "print(json.dumps(response.json(), indent=4))"
   ]
  },
  {
   "cell_type": "code",
   "execution_count": null,
   "metadata": {},
   "outputs": [],
   "source": [
    "Arrivals_FlightID = []\n",
    "Departures_FlightID = []"
   ]
  },
  {
   "cell_type": "code",
   "execution_count": null,
   "metadata": {},
   "outputs": [],
   "source": [
    "# tlm_flight = [\n",
    "#     'TLM100-1671584040-schedule-0562',\n",
    "#     'TLM100-1671497100-schedule-0570',\n",
    "#     'TLM100-1671929100-schedule-0825'\n",
    "# ]\n",
    "# Departures_FlightID = tlm_flight"
   ]
  },
  {
   "cell_type": "code",
   "execution_count": null,
   "metadata": {},
   "outputs": [],
   "source": [
    "#----- add flight data from DMK airport -----#\n",
    "for i in response.json()['arrivals']:\n",
    "    if 'schedule' in i['fa_flight_id']:\n",
    "        Arrivals_FlightID.append(i['fa_flight_id'])\n",
    "        \n",
    "for i in response.json()['departures']:\n",
    "    if 'schedule' in i['fa_flight_id']:\n",
    "        Departures_FlightID.append(i['fa_flight_id'])"
   ]
  },
  {
   "cell_type": "code",
   "execution_count": null,
   "metadata": {},
   "outputs": [],
   "source": [
    "for item in Departures_FlightID:\n",
    "    print(item)"
   ]
  },
  {
   "cell_type": "markdown",
   "metadata": {},
   "source": [
    "# GET data from flight ID"
   ]
  },
  {
   "cell_type": "code",
   "execution_count": null,
   "metadata": {},
   "outputs": [],
   "source": [
    "#----- get data from flight ID -----#\n",
    "Dict_flights = {}\n",
    "\n",
    "i = 1\n",
    "for id in Departures_FlightID:\n",
    "    response = requests.get(apiUrl + f\"flights/{id}/track\",\n",
    "    headers=auth_header)\n",
    "\n",
    "    if response.status_code == 200:\n",
    "        print(i)\n",
    "        #----- Add data to dict -----#\n",
    "        Dict_flights[id] = pd.DataFrame.from_dict(response.json()['positions'])\n",
    "        \n",
    "        #----- check time -----#\n",
    "        Dict_flights[id] = Dict_flights[id].drop_duplicates(subset=['timestamp'], keep='first')\n",
    "\n",
    "        #----- altitude <= 100k ft. & index[1]-index[0]==1 -----#\n",
    "        Dict_flights[id] = Dict_flights[id][Dict_flights[id]['altitude']<=100]\n",
    "        Dict_flights[id]['check_index_1'] = Dict_flights[id].index\n",
    "        Dict_flights[id]['check_index_2'] = Dict_flights[id]['check_index_1'].shift(-1)\n",
    "        Dict_flights[id]['drop'] = Dict_flights[id]['check_index_2']-Dict_flights[id]['check_index_1'] == 1\n",
    "            \n",
    "        #----- loop append only Departures -----#\n",
    "        res = pd.DataFrame()\n",
    "        n = 0\n",
    "        while(Dict_flights[id].iloc[n]['drop']) :\n",
    "            res = res.append(Dict_flights[id].iloc[n])\n",
    "            # res = pd.concat([res, Dict_flights[id].iloc[n]])\n",
    "            n+=1\n",
    "        res = res.append(Dict_flights[id].iloc[n])\n",
    "        # res = pd.concat([res, Dict_flights[id].iloc[n]])\n",
    "        \n",
    "        #----- interpolate 1 sec -----#\n",
    "        res['timestamp'] = pd.to_datetime(res.timestamp)\n",
    "        nidx = np.arange(res['timestamp'][0], res['timestamp'].iloc[-1], 1000000 )\n",
    "        nidx = pd.to_datetime(nidx)\n",
    "\n",
    "        res['timestamp'] = res['timestamp'].round('S').dt.tz_localize(None)\n",
    "        res.set_index('timestamp', inplace=True)\n",
    "        res = res.reindex(res.index.union(nidx))\n",
    "\n",
    "        #----- interpolate ['altitude', 'groundspeed', 'heading', 'latitude', 'longitude'] -----#\n",
    "        res = res[['fa_flight_id', 'altitude', 'groundspeed', 'heading', 'latitude', 'longitude']]\n",
    "        res['altitude'] = pd.to_numeric(res['altitude'])\n",
    "        res['groundspeed'] = pd.to_numeric(res['groundspeed'])\n",
    "        res['heading'] = pd.to_numeric(res['heading'])\n",
    "        res = res.interpolate(method='time',limit_direction='both',limit=100)\n",
    "        res['fa_flight_id'] = id\n",
    "        \n",
    "        #----- date-time index to timestamp -----#\n",
    "        res.reset_index(inplace=True)\n",
    "        res.rename(columns={'index':'timestamp'},inplace=True)\n",
    "        \n",
    "        #----- ONLY TEST -----#\n",
    "        res.to_csv(f'ONLY_TEST/{id}.csv')\n",
    "            \n",
    "    else:\n",
    "        print(\"Error executing request\")\n",
    "        \n",
    "    i+=1\n",
    "    time.sleep(10)"
   ]
  },
  {
   "cell_type": "code",
   "execution_count": null,
   "metadata": {},
   "outputs": [],
   "source": [
    "# Dict_flights['SNY20-1670370011-adhoc-0'].loc[:, ~Dict_flights['SNY20-1670370011-adhoc-0'].index.duplicated()]"
   ]
  },
  {
   "cell_type": "code",
   "execution_count": null,
   "metadata": {},
   "outputs": [],
   "source": [
    "# Dict_flights.keys()"
   ]
  },
  {
   "cell_type": "code",
   "execution_count": null,
   "metadata": {},
   "outputs": [],
   "source": [
    "# print(json.dumps(response.json(), indent=4))"
   ]
  },
  {
   "cell_type": "code",
   "execution_count": null,
   "metadata": {},
   "outputs": [],
   "source": [
    "# df = pd.read_csv(f'flights_data/{id}.csv')\n",
    "# df.head()"
   ]
  },
  {
   "cell_type": "markdown",
   "metadata": {},
   "source": [
    "# test ไม่ใช้จ้า"
   ]
  },
  {
   "cell_type": "code",
   "execution_count": null,
   "metadata": {},
   "outputs": [],
   "source": [
    "# Dict_flights = {}\n",
    "\n",
    "# Dict_flights['AIQ642-1669939380-schedule-0476'] = pd.read_csv(f'flights_data/AIQ642-1669939380-schedule-0476.csv')\n",
    "# Dict_flights['AIQ642-1669939380-schedule-0476']['fa_flight_id'] = 1\n",
    "\n",
    "# Dict_flights['NOK340-1669938420-schedule-0407'] = pd.read_csv(f'flights_data/NOK340-1669938420-schedule-0407.csv')\n",
    "# Dict_flights['NOK340-1669938420-schedule-0407']['fa_flight_id'] = 2\n",
    "\n",
    "# Dict_flights['AIQ642-1669939380-schedule-0476'].head()"
   ]
  },
  {
   "cell_type": "code",
   "execution_count": null,
   "metadata": {},
   "outputs": [],
   "source": [
    "# Dict_flights['AIQ642-1669939380-schedule-0476']\n",
    "\n",
    "# Dict_flights['AIQ642-1669939380-schedule-0476']['timestamp'] = pd.to_datetime(Dict_flights['AIQ642-1669939380-schedule-0476'].timestamp)\n",
    "\n",
    "# nidx = np.arange(Dict_flights['AIQ642-1669939380-schedule-0476']['timestamp'][0], Dict_flights['AIQ642-1669939380-schedule-0476']['timestamp'].iloc[-1], 1000000 )\n",
    "# nidx = pd.to_datetime(nidx)\n",
    "# # nidx\n",
    "\n",
    "# Dict_flights['AIQ642-1669939380-schedule-0476']['timestamp'] = Dict_flights['AIQ642-1669939380-schedule-0476']['timestamp'].round('S').dt.tz_localize(None)\n",
    "# Dict_flights['AIQ642-1669939380-schedule-0476'].set_index('timestamp', inplace=True)\n",
    "# Dict_flights['AIQ642-1669939380-schedule-0476'] = Dict_flights['AIQ642-1669939380-schedule-0476'].reindex(Dict_flights['AIQ642-1669939380-schedule-0476'].index.union(nidx))\n",
    "\n",
    "# Dict_flights['AIQ642-1669939380-schedule-0476'] = Dict_flights['AIQ642-1669939380-schedule-0476'][['altitude', 'groundspeed', 'heading', 'latitude', 'longitude']]\n",
    "# Dict_flights['AIQ642-1669939380-schedule-0476']['altitude'] = pd.to_numeric(Dict_flights['AIQ642-1669939380-schedule-0476']['altitude'])\n",
    "# Dict_flights['AIQ642-1669939380-schedule-0476']['groundspeed'] = pd.to_numeric(Dict_flights['AIQ642-1669939380-schedule-0476']['groundspeed'])\n",
    "# Dict_flights['AIQ642-1669939380-schedule-0476']['heading'] = pd.to_numeric(Dict_flights['AIQ642-1669939380-schedule-0476']['heading'])\n",
    "# Dict_flights['AIQ642-1669939380-schedule-0476'] = Dict_flights['AIQ642-1669939380-schedule-0476'].interpolate(method='time',limit_direction='both',limit=50)\n",
    "\n",
    "# Dict_flights['AIQ642-1669939380-schedule-0476']"
   ]
  },
  {
   "cell_type": "code",
   "execution_count": null,
   "metadata": {},
   "outputs": [],
   "source": [
    "Dict_flights.keys()"
   ]
  },
  {
   "cell_type": "code",
   "execution_count": null,
   "metadata": {},
   "outputs": [],
   "source": [
    "# Dict_flights['SNY20-1670370011-adhoc-0'].reset_index(inplace=True)\n",
    "# Dict_flights['SNY20-1670370011-adhoc-0']"
   ]
  },
  {
   "cell_type": "code",
   "execution_count": null,
   "metadata": {},
   "outputs": [],
   "source": [
    "Dict_flights['SNY20-1670370011-adhoc-0'] = Dict_flights['SNY20-1670370011-adhoc-0'].drop_duplicates(subset=['timestamp'], keep='first')"
   ]
  },
  {
   "cell_type": "code",
   "execution_count": null,
   "metadata": {},
   "outputs": [],
   "source": [
    "Dict_flights['SNY20-1670370011-adhoc-0'].reset_index(inplace=True)"
   ]
  },
  {
   "cell_type": "code",
   "execution_count": null,
   "metadata": {},
   "outputs": [],
   "source": [
    "Dict_flights['SNY20-1670370011-adhoc-0'].rename(columns={'index':'timestamp'},inplace=True)"
   ]
  },
  {
   "cell_type": "code",
   "execution_count": null,
   "metadata": {},
   "outputs": [],
   "source": [
    "# Dict_flights['NOK600-1670198400-schedule-0700'].between_time('23:00', '07:00')\n",
    "if Dict_flights['NOK600-1670198400-schedule-0700'].iloc[:1].between_time('23:00', '07:00').empty :\n",
    "    print(1)\n",
    "else:\n",
    "    print(0)\n",
    "# Dict_flights['NOK600-1670198400-schedule-0700']"
   ]
  },
  {
   "cell_type": "code",
   "execution_count": null,
   "metadata": {},
   "outputs": [],
   "source": [
    "test_dict = {\n",
    "        'day':{},\n",
    "        'night':{}\n",
    "    }"
   ]
  },
  {
   "cell_type": "code",
   "execution_count": null,
   "metadata": {},
   "outputs": [],
   "source": [
    "test_dict['night']['1'] = Dict_flights['SNY20-1670370011-adhoc-0'].copy()"
   ]
  },
  {
   "cell_type": "code",
   "execution_count": null,
   "metadata": {},
   "outputs": [],
   "source": [
    "test_dict['night']['1'][test_dict['night']['1']['altitude'] <= 50]"
   ]
  },
  {
   "cell_type": "code",
   "execution_count": null,
   "metadata": {},
   "outputs": [],
   "source": [
    "test_dict['night']['1']"
   ]
  },
  {
   "cell_type": "code",
   "execution_count": null,
   "metadata": {},
   "outputs": [],
   "source": [
    "for item in Dict_flights:\n",
    "    print(item)"
   ]
  },
  {
   "cell_type": "code",
   "execution_count": null,
   "metadata": {},
   "outputs": [],
   "source": [
    "Dict_flights[item]"
   ]
  },
  {
   "cell_type": "code",
   "execution_count": null,
   "metadata": {},
   "outputs": [],
   "source": [
    "for time in test_dict:\n",
    "    print(time)\n",
    "    for flight in test_dict[time]:\n",
    "        print(flight)"
   ]
  },
  {
   "cell_type": "code",
   "execution_count": null,
   "metadata": {},
   "outputs": [],
   "source": [
    "time"
   ]
  },
  {
   "cell_type": "code",
   "execution_count": null,
   "metadata": {},
   "outputs": [],
   "source": [
    "Dict_flights['NOK340-1670198400-schedule-0684'][Dict_flights['NOK340-1670198400-schedule-0684']['altitude'] <= 80]"
   ]
  },
  {
   "cell_type": "code",
   "execution_count": null,
   "metadata": {},
   "outputs": [],
   "source": [
    "# SNY20-1670370011-adhoc-0"
   ]
  },
  {
   "cell_type": "code",
   "execution_count": null,
   "metadata": {},
   "outputs": [],
   "source": [
    "tmp = pd.read_csv('ONLY_TEST/AIQ359-1670457540-schedule-0563.csv')\n",
    "tmp.head()"
   ]
  },
  {
   "cell_type": "code",
   "execution_count": null,
   "metadata": {},
   "outputs": [],
   "source": [
    "tmp = tmp[tmp['altitude'] <= 100]\n",
    "tmp['check_index_1'] = tmp.index\n",
    "tmp['check_index_2'] = tmp['check_index_1'].shift(-1)\n",
    "tmp['drop'] = tmp['check_index_2']-tmp['check_index_1'] == 1\n",
    "\n",
    "# tmp"
   ]
  },
  {
   "cell_type": "code",
   "execution_count": null,
   "metadata": {},
   "outputs": [],
   "source": [
    "tmp.index"
   ]
  },
  {
   "cell_type": "code",
   "execution_count": null,
   "metadata": {},
   "outputs": [],
   "source": [
    "res = pd.DataFrame()\n",
    "n = 0\n",
    "while(tmp.iloc[n]['drop']) :\n",
    "    res = res.append(tmp.iloc[n])\n",
    "    n+=1\n",
    "res = res.append(tmp.iloc[n])\n",
    "\n",
    "res"
   ]
  },
  {
   "cell_type": "code",
   "execution_count": null,
   "metadata": {},
   "outputs": [],
   "source": [
    "res.rename(columns={'Unnamed: 0':'timestamp'}, inplace=True)\n",
    "res['timestamp'] = pd.to_datetime(res.timestamp)\n",
    "res.set_index('timestamp',inplace=True)\n",
    "res.index.inferred_type == \"datetime64\""
   ]
  },
  {
   "cell_type": "code",
   "execution_count": null,
   "metadata": {},
   "outputs": [],
   "source": [
    "res"
   ]
  },
  {
   "cell_type": "code",
   "execution_count": null,
   "metadata": {},
   "outputs": [],
   "source": [
    "res.iloc[:1]"
   ]
  },
  {
   "cell_type": "code",
   "execution_count": null,
   "metadata": {},
   "outputs": [],
   "source": [
    "if res.iloc[:1].between_time('07:00', '23:00').empty :\n",
    "    print(1)"
   ]
  },
  {
   "cell_type": "code",
   "execution_count": null,
   "metadata": {},
   "outputs": [],
   "source": [
    "res2 = res.reset_index()\n",
    "res2"
   ]
  },
  {
   "cell_type": "code",
   "execution_count": null,
   "metadata": {},
   "outputs": [],
   "source": [
    "print(res2.iloc[0].timestamp.date())"
   ]
  },
  {
   "cell_type": "code",
   "execution_count": null,
   "metadata": {},
   "outputs": [],
   "source": [
    "res2.timestamp.dt.date"
   ]
  },
  {
   "cell_type": "code",
   "execution_count": null,
   "metadata": {},
   "outputs": [],
   "source": [
    "type(tmp.loc[n])"
   ]
  },
  {
   "cell_type": "code",
   "execution_count": null,
   "metadata": {},
   "outputs": [],
   "source": [
    "import warnings\n",
    "warnings.simplefilter(action='ignore', category=FutureWarning)"
   ]
  },
  {
   "cell_type": "code",
   "execution_count": null,
   "metadata": {},
   "outputs": [],
   "source": [
    "test_df = pd.read_csv(f'flights_data/AIQ642-1669939380-schedule-0476.csv')\n",
    "test_df"
   ]
  },
  {
   "cell_type": "code",
   "execution_count": null,
   "metadata": {},
   "outputs": [],
   "source": [
    "# order_col = test_df.columns\n",
    "# order_col"
   ]
  },
  {
   "cell_type": "code",
   "execution_count": null,
   "metadata": {},
   "outputs": [],
   "source": [
    "# order_col = ['groundspeed', 'fa_flight_id', 'update_type']\n",
    "# order_col = test_df.columns\n",
    "\n",
    "# test_df[order_col]\n",
    "# order_col"
   ]
  }
 ],
 "metadata": {
  "kernelspec": {
   "display_name": "newenv",
   "language": "python",
   "name": "python3"
  },
  "language_info": {
   "codemirror_mode": {
    "name": "ipython",
    "version": 3
   },
   "file_extension": ".py",
   "mimetype": "text/x-python",
   "name": "python",
   "nbconvert_exporter": "python",
   "pygments_lexer": "ipython3",
   "version": "3.10.9"
  },
  "orig_nbformat": 4,
  "vscode": {
   "interpreter": {
    "hash": "ac71981e6f890dc801fdae2a82ae8fd86c5f03e19859ebfcb9b552b27fc94c2c"
   }
  }
 },
 "nbformat": 4,
 "nbformat_minor": 2
}
